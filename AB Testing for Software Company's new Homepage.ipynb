{
 "cells": [
  {
   "cell_type": "code",
   "execution_count": 70,
   "id": "c028ecd7",
   "metadata": {
    "code_folding": [
     0
    ]
   },
   "outputs": [],
   "source": [
    "# import packages\n",
    "import numpy as np\n",
    "import scipy.stats as stats\n",
    "import math\n",
    "import pandas as pd\n",
    "import statsmodels.stats.proportion as sms\n",
    "\n",
    "import matplotlib.pyplot as plt\n",
    "%matplotlib inline"
   ]
  },
  {
   "cell_type": "markdown",
   "id": "3d040918",
   "metadata": {},
   "source": [
    "# Experiment Size\n",
    "Because we have two evaluation metrics of interest, we should make sure that we are choosing an appropriate significance level to conduct each test, in order to preserve a maximum overall Type I error rate of $.05$. Since we would be happy to deploy the new homepage if either download rate or license purchase rate showed a statistically significant increase, performing both individual tests at a $.05$ error rate carries the risk of making too many Type I errors. As such, we'll apply the Bonferroni correction to run each test at a $.025$ error rate so as to protect against making too many errors."
   ]
  },
  {
   "cell_type": "code",
   "execution_count": 93,
   "id": "f709805a",
   "metadata": {
    "code_folding": [
     0
    ]
   },
   "outputs": [],
   "source": [
    "# function to compute the experiment size\n",
    "def experiment_size(p_null, p_alt, alpha = .05, beta = .20):\n",
    "    \"\"\"\n",
    "    Compute the minimum number of samples needed to achieve a desired power\n",
    "    level for a given effect size.\n",
    "    \n",
    "    Input parameters:\n",
    "        p_null: base success rate under null hypothesis\n",
    "        p_alt : desired success rate to be detected\n",
    "        alpha : Type-I error rate\n",
    "        beta  : Type-II error rate\n",
    "    \n",
    "    Output value:\n",
    "        n : Number of samples required for each group to obtain desired power\n",
    "    \"\"\"\n",
    "    \n",
    "    # Get necessary z-scores and standard deviations (@ 1 obs per group)\n",
    "    z_null = stats.norm.ppf(1 - alpha)\n",
    "    z_alt  = stats.norm.ppf(beta)\n",
    "    sd_null = np.sqrt(p_null * (1-p_null) + p_null * (1-p_null))\n",
    "    sd_alt  = np.sqrt(p_null * (1-p_null) + p_alt  * (1-p_alt) )\n",
    "    \n",
    "    # Compute and return minimum sample size\n",
    "    p_diff = p_alt - p_null\n",
    "    n = ((z_null*sd_null - z_alt*sd_alt) / p_diff) ** 2\n",
    "    return np.ceil(n)"
   ]
  },
  {
   "cell_type": "code",
   "execution_count": 94,
   "id": "02b7ee4a",
   "metadata": {
    "code_folding": [
     0
    ]
   },
   "outputs": [
    {
     "data": {
      "text/plain": [
       "(3250, 1625.0, 1625.0)"
      ]
     },
     "execution_count": 94,
     "metadata": {},
     "output_type": "execute_result"
    }
   ],
   "source": [
    "# define users for each groups (experimental and control)\n",
    "user_per_day = 3250\n",
    "control_user = user_per_day/2\n",
    "exper_user = user_per_day/2\n",
    "\n",
    "user_per_day, control_user, exper_user"
   ]
  },
  {
   "cell_type": "code",
   "execution_count": 104,
   "id": "73bed759",
   "metadata": {
    "code_folding": [
     0
    ],
    "scrolled": false
   },
   "outputs": [
    {
     "name": "stdout",
     "output_type": "stream",
     "text": [
      "The visitors needs for download is 9481.0\n",
      "The visitors needs for license is 34930.0\n"
     ]
    }
   ],
   "source": [
    "# find data we need to collect\n",
    "download_visitor = experiment_size(.16, .175, alpha=.025, beta=.20)\n",
    "license_visitor = experiment_size(.02, .023, alpha=.025, beta=.20)\n",
    "\n",
    "print(f\"The visitors needs for download is {download_visitor}\")\n",
    "print(f\"The visitors needs for license is {license_visitor}\")\n"
   ]
  },
  {
   "cell_type": "code",
   "execution_count": 113,
   "id": "0fd31d3c",
   "metadata": {
    "code_folding": [
     0
    ],
    "scrolled": false
   },
   "outputs": [
    {
     "name": "stdout",
     "output_type": "stream",
     "text": [
      "The days need for collecting data is 6 and 22\n"
     ]
    }
   ],
   "source": [
    "# find how many days run collect data\n",
    "download_days = math.ceil(download_visitor/(user_per_day/2))\n",
    "license_days = math.ceil(license_visitor/(user_per_day/2))\n",
    "print(f'The days need for collecting data is {download_days} and {license_days}')\n"
   ]
  },
  {
   "cell_type": "markdown",
   "id": "42af897b",
   "metadata": {},
   "source": [
    "# Invariant Metric"
   ]
  },
  {
   "cell_type": "code",
   "execution_count": 7,
   "id": "3f31055e",
   "metadata": {
    "collapsed": true
   },
   "outputs": [
    {
     "data": {
      "text/html": [
       "<div>\n",
       "<style scoped>\n",
       "    .dataframe tbody tr th:only-of-type {\n",
       "        vertical-align: middle;\n",
       "    }\n",
       "\n",
       "    .dataframe tbody tr th {\n",
       "        vertical-align: top;\n",
       "    }\n",
       "\n",
       "    .dataframe thead th {\n",
       "        text-align: right;\n",
       "    }\n",
       "</style>\n",
       "<table border=\"1\" class=\"dataframe\">\n",
       "  <thead>\n",
       "    <tr style=\"text-align: right;\">\n",
       "      <th></th>\n",
       "      <th>Day</th>\n",
       "      <th>Control Cookies</th>\n",
       "      <th>Control Downloads</th>\n",
       "      <th>Control Licenses</th>\n",
       "      <th>Experiment Cookies</th>\n",
       "      <th>Experiment Downloads</th>\n",
       "      <th>Experiment Licenses</th>\n",
       "    </tr>\n",
       "  </thead>\n",
       "  <tbody>\n",
       "    <tr>\n",
       "      <th>0</th>\n",
       "      <td>1</td>\n",
       "      <td>1764</td>\n",
       "      <td>246</td>\n",
       "      <td>1</td>\n",
       "      <td>1850</td>\n",
       "      <td>339</td>\n",
       "      <td>3</td>\n",
       "    </tr>\n",
       "    <tr>\n",
       "      <th>1</th>\n",
       "      <td>2</td>\n",
       "      <td>1541</td>\n",
       "      <td>234</td>\n",
       "      <td>2</td>\n",
       "      <td>1590</td>\n",
       "      <td>281</td>\n",
       "      <td>2</td>\n",
       "    </tr>\n",
       "  </tbody>\n",
       "</table>\n",
       "</div>"
      ],
      "text/plain": [
       "   Day  Control Cookies  Control Downloads  Control Licenses  \\\n",
       "0    1             1764                246                 1   \n",
       "1    2             1541                234                 2   \n",
       "\n",
       "   Experiment Cookies  Experiment Downloads  Experiment Licenses  \n",
       "0                1850                   339                    3  \n",
       "1                1590                   281                    2  "
      ]
     },
     "execution_count": 7,
     "metadata": {},
     "output_type": "execute_result"
    }
   ],
   "source": [
    "df = pd.read_csv('homepage-experiment-data.csv')\n",
    "df.head(2)"
   ]
  },
  {
   "cell_type": "markdown",
   "id": "0aa929c0",
   "metadata": {},
   "source": [
    "$H_0: P=0.5$<br>\n",
    "$H_1: p \\ne 0.5$"
   ]
  },
  {
   "cell_type": "code",
   "execution_count": 61,
   "id": "adf5cc9b",
   "metadata": {
    "code_folding": [
     0,
     1
    ]
   },
   "outputs": [],
   "source": [
    "# function need\n",
    "def zProportion(p, p_hat, n, side='two-tail'):\n",
    "    x1 = p_hat-p\n",
    "    x2 = np.sqrt(p*(1-p)/n)\n",
    "    z_value = x1/x2\n",
    "    \n",
    "    if side == 'two-tail':\n",
    "        p_value = stats.norm.sf(abs(z_value))*2\n",
    "    elif side == 'upper-tail':\n",
    "        p_value = stats.norm.sf(z_value)\n",
    "    elif side == 'lower-tail':\n",
    "        p_value = stats.norm.cdf(z_value)\n",
    "    \n",
    "    return z_value, p_value"
   ]
  },
  {
   "cell_type": "code",
   "execution_count": 206,
   "id": "920fd6d7",
   "metadata": {},
   "outputs": [
    {
     "data": {
      "text/plain": [
       "(46851, 94197)"
      ]
     },
     "execution_count": 206,
     "metadata": {},
     "output_type": "execute_result"
    }
   ],
   "source": [
    "n_obs = df['Experiment Cookies'].sum() + df['Control Cookies'].sum()\n",
    "n_control = df['Control Cookies'].sum()\n",
    "\n",
    "n_control, n_obs"
   ]
  },
  {
   "cell_type": "code",
   "execution_count": 207,
   "id": "3e22e214",
   "metadata": {},
   "outputs": [
    {
     "name": "stdout",
     "output_type": "stream",
     "text": [
      "z_val= -1.6128228329131171 p_val= 0.10678300401876598\n",
      "Don't reject H_0\n"
     ]
    }
   ],
   "source": [
    "z_val, p_val = zProportion(p, (n_control/n_obs), n_obs)\n",
    "print('z_val=', z_val, 'p_val=',p_val)\n",
    "\n",
    "if p_val <= 0.05:\n",
    "    print('Reject H_0')\n",
    "else:\n",
    "    print(\"Don't reject H_0\")"
   ]
  },
  {
   "cell_type": "markdown",
   "id": "a3dbdbde",
   "metadata": {},
   "source": [
    "# Evaluation Metric"
   ]
  },
  {
   "cell_type": "code",
   "execution_count": 63,
   "id": "90542e0b",
   "metadata": {
    "collapsed": true
   },
   "outputs": [
    {
     "data": {
      "text/html": [
       "<div>\n",
       "<style scoped>\n",
       "    .dataframe tbody tr th:only-of-type {\n",
       "        vertical-align: middle;\n",
       "    }\n",
       "\n",
       "    .dataframe tbody tr th {\n",
       "        vertical-align: top;\n",
       "    }\n",
       "\n",
       "    .dataframe thead th {\n",
       "        text-align: right;\n",
       "    }\n",
       "</style>\n",
       "<table border=\"1\" class=\"dataframe\">\n",
       "  <thead>\n",
       "    <tr style=\"text-align: right;\">\n",
       "      <th></th>\n",
       "      <th>Day</th>\n",
       "      <th>Control Cookies</th>\n",
       "      <th>Control Downloads</th>\n",
       "      <th>Control Licenses</th>\n",
       "      <th>Experiment Cookies</th>\n",
       "      <th>Experiment Downloads</th>\n",
       "      <th>Experiment Licenses</th>\n",
       "    </tr>\n",
       "  </thead>\n",
       "  <tbody>\n",
       "    <tr>\n",
       "      <th>0</th>\n",
       "      <td>1</td>\n",
       "      <td>1764</td>\n",
       "      <td>246</td>\n",
       "      <td>1</td>\n",
       "      <td>1850</td>\n",
       "      <td>339</td>\n",
       "      <td>3</td>\n",
       "    </tr>\n",
       "    <tr>\n",
       "      <th>1</th>\n",
       "      <td>2</td>\n",
       "      <td>1541</td>\n",
       "      <td>234</td>\n",
       "      <td>2</td>\n",
       "      <td>1590</td>\n",
       "      <td>281</td>\n",
       "      <td>2</td>\n",
       "    </tr>\n",
       "    <tr>\n",
       "      <th>2</th>\n",
       "      <td>3</td>\n",
       "      <td>1457</td>\n",
       "      <td>240</td>\n",
       "      <td>1</td>\n",
       "      <td>1515</td>\n",
       "      <td>274</td>\n",
       "      <td>1</td>\n",
       "    </tr>\n",
       "  </tbody>\n",
       "</table>\n",
       "</div>"
      ],
      "text/plain": [
       "   Day  Control Cookies  Control Downloads  Control Licenses  \\\n",
       "0    1             1764                246                 1   \n",
       "1    2             1541                234                 2   \n",
       "2    3             1457                240                 1   \n",
       "\n",
       "   Experiment Cookies  Experiment Downloads  Experiment Licenses  \n",
       "0                1850                   339                    3  \n",
       "1                1590                   281                    2  \n",
       "2                1515                   274                    1  "
      ]
     },
     "execution_count": 63,
     "metadata": {},
     "output_type": "execute_result"
    }
   ],
   "source": [
    "df.head(3)"
   ]
  },
  {
   "cell_type": "markdown",
   "id": "9b88a8dd",
   "metadata": {},
   "source": [
    "## Download Rate"
   ]
  },
  {
   "cell_type": "markdown",
   "id": "b4ab5f2f",
   "metadata": {},
   "source": [
    "$H_0: \\text{download rate}_{\\text{new}} \\le \\text{download rate}_{\\text{old}} $ <br>\n",
    "$H_1: \\text{download rate}_{\\text{new}} > \\text{download rate}_{\\text{old}} $ "
   ]
  },
  {
   "cell_type": "code",
   "execution_count": 226,
   "id": "d0bef2a9",
   "metadata": {
    "code_folding": [
     0
    ],
    "collapsed": true
   },
   "outputs": [
    {
     "name": "stdout",
     "output_type": "stream",
     "text": [
      "Number of Observation in Control Group 9636\n",
      "Porportion of downloads in control group 0.1540058115400581\n",
      "──────────────────────────────────────────────────\n",
      "Number of Observation in Experiment Group 9919\n",
      "Porportion of downloads in experiment group 0.1783445911886279\n",
      "──────────────────────────────────────────────────\n",
      "The difference between experiment and control group is '0.024338779648569786' \n"
     ]
    }
   ],
   "source": [
    "# number of observation in control group\n",
    "n_control = df.query('Day < 7')['Control Cookies'].sum()\n",
    "print(f'Number of Observation in Control Group {n_control}')\n",
    "\n",
    "# number of downloads in control group\n",
    "n_control_download = df.query('Day < 7')['Control Downloads'].sum()\n",
    "\n",
    "# porportion of downloads in control group\n",
    "p_control_download = (n_control_download / n_control)\n",
    "print(f\"Porportion of downloads in control group {p_control_download}\")\n",
    "\n",
    "print('─'*50)\n",
    "\n",
    "\n",
    "# number of observation in experiment group\n",
    "n_exper = df.query('Day < 7')['Experiment Cookies'].sum()\n",
    "print(f'Number of Observation in Experiment Group {n_exper}')\n",
    "\n",
    "# number of downloads in experiment group\n",
    "n_exper_download = df.query('Day < 7')['Experiment Downloads'].sum()\n",
    "\n",
    "# porportion of downloads in experiment group\n",
    "p_exper_download = (n_exper_download / n_exper)\n",
    "print(f\"Porportion of downloads in experiment group {p_exper_download}\")\n",
    "\n",
    "print('─'*50)\n",
    "\n",
    "obs_diff = p_exper_download - p_control_download\n",
    "print(f\"The difference between experiment and control group is '{obs_diff}' \")"
   ]
  },
  {
   "cell_type": "code",
   "execution_count": 227,
   "id": "f090b799",
   "metadata": {
    "collapsed": true
   },
   "outputs": [
    {
     "data": {
      "text/plain": [
       "(4.569277914761742, 2.4470372893307737e-06)"
      ]
     },
     "execution_count": 227,
     "metadata": {},
     "output_type": "execute_result"
    }
   ],
   "source": [
    "nobs=[n_exper, n_control]\n",
    "count = [n_exper_download, n_control_download]\n",
    "value = 0.5 - 0.5\n",
    "alternative = 'larger'\n",
    "\n",
    "stat, pval_1 = sms.proportions_ztest(count=count, nobs=nobs, alternative=alternative, value =value)\n",
    "stat, pval_1"
   ]
  },
  {
   "cell_type": "code",
   "execution_count": 228,
   "id": "264cbe67",
   "metadata": {
    "code_folding": [
     1,
     3
    ],
    "collapsed": true
   },
   "outputs": [
    {
     "name": "stdout",
     "output_type": "stream",
     "text": [
      "reject the H0\n"
     ]
    }
   ],
   "source": [
    "z_value = stats.norm.ppf(0.95)\n",
    "if abs(stat) > z_value:\n",
    "    print('reject the H0')\n",
    "else:\n",
    "    print('faild to reject H0')"
   ]
  },
  {
   "cell_type": "markdown",
   "id": "e60bd3f4",
   "metadata": {},
   "source": [
    "## License Purchasing Rate"
   ]
  },
  {
   "cell_type": "markdown",
   "id": "cee3ed14",
   "metadata": {},
   "source": [
    "$H_0: \\text{purchasing rate}_{\\text{new}} \\le \\text{purchasing rate}_{\\text{old}} $ <br>\n",
    "$H_1: \\text{purchasing rate}_{\\text{new}} > \\text{purchasing rate}_{\\text{old}} $ "
   ]
  },
  {
   "cell_type": "code",
   "execution_count": 229,
   "id": "d61f6ab0",
   "metadata": {
    "code_folding": [
     0
    ],
    "collapsed": true
   },
   "outputs": [
    {
     "name": "stdout",
     "output_type": "stream",
     "text": [
      "Number of Observation in Control Group 33758\n",
      "Porportion of licenses in control group 0.021032051661828307\n",
      "──────────────────────────────────────────────────\n",
      "Number of Observation in Experiment Group 34338\n",
      "Porportion of licenses in experiment group 0.021317490826489604\n",
      "──────────────────────────────────────────────────\n",
      "The difference between experiment and control group is '0.00028543916466129693' \n"
     ]
    }
   ],
   "source": [
    "# number of observation in control group\n",
    "n_control = df.query('Day < 22')['Control Cookies'].sum()\n",
    "print(f'Number of Observation in Control Group {n_control}')\n",
    "\n",
    "# number of licenses in control group\n",
    "n_control_license = df['Control Licenses'].sum()\n",
    "\n",
    "# porportion of licenses in control group\n",
    "p_control_license = (n_control_license / n_control)\n",
    "print(f\"Porportion of licenses in control group {p_control_license}\")\n",
    "\n",
    "print('─'*50)\n",
    "\n",
    "\n",
    "# number of observation in experiment group\n",
    "n_exper = df.query('Day < 22')['Experiment Cookies'].sum()\n",
    "print(f'Number of Observation in Experiment Group {n_exper}')\n",
    "\n",
    "# number of licenses in experiment group\n",
    "n_exper_license = df['Experiment Licenses'].sum()\n",
    "\n",
    "# porportion of licenses in experiment group\n",
    "p_exper_license = (n_exper_license / n_exper)\n",
    "print(f\"Porportion of licenses in experiment group {p_exper_license}\")\n",
    "\n",
    "print('─'*50)\n",
    "\n",
    "obs_diff = p_exper_license - p_control_license\n",
    "print(f\"The difference between experiment and control group is '{obs_diff}' \")"
   ]
  },
  {
   "cell_type": "markdown",
   "id": "d2b770a3",
   "metadata": {},
   "source": [
    "Note: we divided all 29 days by 21 days because there are 7 days trials for the software so the last 7 days to see the rate of license purchase"
   ]
  },
  {
   "cell_type": "code",
   "execution_count": 230,
   "id": "6db4f4db",
   "metadata": {
    "collapsed": true
   },
   "outputs": [
    {
     "data": {
      "text/plain": [
       "(0.2586750111658684, 0.3979430008399871)"
      ]
     },
     "execution_count": 230,
     "metadata": {},
     "output_type": "execute_result"
    }
   ],
   "source": [
    "nobs=[n_exper, n_control]\n",
    "count = [n_exper_license, n_control_license]\n",
    "value = 0.5 - 0.5\n",
    "alternative = 'larger'\n",
    "\n",
    "stat, pval_2 = sms.proportions_ztest(count=count, nobs=nobs, alternative=alternative, value =value)\n",
    "stat, pval_2"
   ]
  },
  {
   "cell_type": "code",
   "execution_count": 231,
   "id": "bc481d38",
   "metadata": {
    "code_folding": [
     1,
     3
    ],
    "collapsed": true
   },
   "outputs": [
    {
     "name": "stdout",
     "output_type": "stream",
     "text": [
      "faild to reject H0\n"
     ]
    }
   ],
   "source": [
    "z_value = stats.norm.ppf(0.95)\n",
    "if abs(stat) > z_value:\n",
    "    print('reject the H0')\n",
    "else:\n",
    "    print('faild to reject H0')"
   ]
  },
  {
   "cell_type": "markdown",
   "id": "823284ef",
   "metadata": {},
   "source": [
    "# Conclusion"
   ]
  },
  {
   "cell_type": "code",
   "execution_count": 224,
   "id": "2083aa60",
   "metadata": {
    "collapsed": true
   },
   "outputs": [
    {
     "data": {
      "text/plain": [
       "(2.4470372893307737e-06, 0.3979430008399871)"
      ]
     },
     "execution_count": 224,
     "metadata": {},
     "output_type": "execute_result"
    }
   ],
   "source": [
    "p_values = pval_1, pval_2\n",
    "tests = ['Download Rate', 'License Rate']\n",
    "p_values"
   ]
  },
  {
   "cell_type": "code",
   "execution_count": 225,
   "id": "709b4d6d",
   "metadata": {
    "code_folding": [
     1,
     2,
     4
    ],
    "collapsed": true
   },
   "outputs": [
    {
     "name": "stdout",
     "output_type": "stream",
     "text": [
      "Reject the H0 for Download Rate test\n",
      "Faild to reject H0 for License Rate test\n"
     ]
    }
   ],
   "source": [
    "bonferroni_rate = (0.05/len(p_values))\n",
    "for i, p_value in enumerate(p_values):\n",
    "    if p_value < (bonferroni_rate):\n",
    "        print(f'Reject the H0 for {tests[i]} test')\n",
    "    else:\n",
    "        print(f'Faild to reject H0 for {tests[i]} test')"
   ]
  },
  {
   "cell_type": "markdown",
   "id": "224db820",
   "metadata": {},
   "source": [
    "Despite the fact that statistical significance wasn't obtained for the number of licenses purchased, the new homepage appeared to have a strong effect on the number of downloads made. Based on our goals, this seems enough to suggest replacing the old homepage with the new homepage. Establishing whether there was a significant increase in the number of license purchases, either through the rate or the increase in the number of homepage visits, will need to wait for further experiments or data collection."
   ]
  }
 ],
 "metadata": {
  "kernelspec": {
   "display_name": "Python 3",
   "language": "python",
   "name": "python3"
  },
  "language_info": {
   "codemirror_mode": {
    "name": "ipython",
    "version": 3
   },
   "file_extension": ".py",
   "mimetype": "text/x-python",
   "name": "python",
   "nbconvert_exporter": "python",
   "pygments_lexer": "ipython3",
   "version": "3.8.10"
  },
  "toc": {
   "base_numbering": 1,
   "nav_menu": {},
   "number_sections": true,
   "sideBar": true,
   "skip_h1_title": false,
   "title_cell": "Table of Contents",
   "title_sidebar": "Contents",
   "toc_cell": false,
   "toc_position": {
    "height": "calc(100% - 180px)",
    "left": "10px",
    "top": "150px",
    "width": "165px"
   },
   "toc_section_display": true,
   "toc_window_display": true
  }
 },
 "nbformat": 4,
 "nbformat_minor": 5
}
